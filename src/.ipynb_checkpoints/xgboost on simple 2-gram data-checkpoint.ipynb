{
 "cells": [
  {
   "cell_type": "markdown",
   "metadata": {},
   "source": [
    "This script is to apply xgboost on simple version of RMP data, i.e., only to use `CountVectorizer` to de-code the comments into matrix.\n",
    "\n",
    "In order to be able to test our model internally, I will separte part of data as training dataset, on which we will test our data. "
   ]
  },
  {
   "cell_type": "markdown",
   "metadata": {},
   "source": [
    "## Import Modules"
   ]
  },
  {
   "cell_type": "code",
   "execution_count": 1,
   "metadata": {
    "collapsed": true
   },
   "outputs": [],
   "source": [
    "## import modules\n",
    "%matplotlib inline     \n",
    "\n",
    "import pandas as pd\n",
    "import numpy as np\n",
    "import matplotlib.pyplot as plt\n",
    "from mpl_toolkits.mplot3d import Axes3D\n",
    "from sklearn.feature_extraction.text import CountVectorizer\n",
    "import xgboost as xgb"
   ]
  },
  {
   "cell_type": "markdown",
   "metadata": {},
   "source": [
    "## Data Preprocessing"
   ]
  },
  {
   "cell_type": "code",
   "execution_count": 2,
   "metadata": {
    "collapsed": true
   },
   "outputs": [],
   "source": [
    "train = pd.read_csv('../Data/train.csv')\n",
    "test = pd.read_csv('../Data/test.csv')"
   ]
  },
  {
   "cell_type": "markdown",
   "metadata": {},
   "source": [
    "Next, let's explore the data a little bit.\n",
    "\n",
    "1. NA value\n",
    "3. If there are any duplicated rows"
   ]
  },
  {
   "cell_type": "code",
   "execution_count": 4,
   "metadata": {
    "collapsed": false
   },
   "outputs": [
    {
     "name": "stdout",
     "output_type": "stream",
     "text": [
      "         id     tid      dept        date forcredit     attendance  \\\n",
      "0  24228248  916674  Business  01/05/2015       Yes            NaN   \n",
      "1  24218909  916674  Business  01/02/2015       Yes      Mandatory   \n",
      "2  24215795  916674  Business  01/02/2015       Yes            NaN   \n",
      "3  24204179  916674  Business  12/30/2014       Yes  Not Mandatory   \n",
      "4  24198463  916674  Business  12/28/2014       Yes  Not Mandatory   \n",
      "\n",
      "             textbookuse          interest grade  \\\n",
      "0       It's a must have    Really into it   NaN   \n",
      "1       It's a must have  Sorta interested     A   \n",
      "2   Essential to passing    Really into it   NaN   \n",
      "3   Essential to passing  Sorta interested   NaN   \n",
      "4  You need it sometimes  Sorta interested     A   \n",
      "\n",
      "                                                tags  \\\n",
      "0  [\"Would take again\", \"Hilarious\", \"Tests are t...   \n",
      "1  [\"Skip class? You won't pass.\", \"Tests are tou...   \n",
      "2  [\"Hilarious\", \"Would take again\", \"Skip class?...   \n",
      "3           [\"Tests are tough\", \"Get ready to read\"]   \n",
      "4  [\"Inspirational\", \"Hilarious\", \"Skip class? Yo...   \n",
      "\n",
      "                                            comments  helpcount  nothelpcount  \\\n",
      "0  Great Professor My wife took this class twice ...          0            10   \n",
      "1  Great Professor Study the notes from class and...          0             1   \n",
      "2  Brother Brau is a great guy He gives great spi...          1             2   \n",
      "3  People rave about Brau but I personally dont g...         18             6   \n",
      "4  This class doesnt have much homework which was...          1             0   \n",
      "\n",
      "  online  profgender  profhotness  helpfulness  clarity  easiness  quality  \n",
      "0    NaN           0            0            4        5         3        9  \n",
      "1    NaN           0            0            4        4         2        8  \n",
      "2    NaN           0            0            4        4         3        8  \n",
      "3    NaN           0            0            3        1         2        4  \n",
      "4    NaN           0            0            4        4         4        8  \n"
     ]
    }
   ],
   "source": [
    "print train.head()"
   ]
  },
  {
   "cell_type": "code",
   "execution_count": 5,
   "metadata": {
    "collapsed": false
   },
   "outputs": [
    {
     "name": "stdout",
     "output_type": "stream",
     "text": [
      "         id     tid     dept        date forcredit attendance  \\\n",
      "0  23369572  387429  History  06/13/2014       NaN  Mandatory   \n",
      "1  21797700  387429  History  05/20/2013       NaN        NaN   \n",
      "2  21517172  387429  History  04/11/2013       NaN        NaN   \n",
      "3  21482979  387429  History  04/03/2013       NaN        NaN   \n",
      "4  21463917  387429  History  03/29/2013       NaN        NaN   \n",
      "\n",
      "              textbookuse          interest grade tags  \\\n",
      "0          What textbook?               Meh     B   []   \n",
      "1  Barely cracked it open               Meh   NaN   []   \n",
      "2    Essential to passing               Low   NaN   []   \n",
      "3        It's a must have  Sorta interested   NaN   []   \n",
      "4        It's a must have    Really into it   NaN   []   \n",
      "\n",
      "                                            comments  helpcount  nothelpcount  \\\n",
      "0  I really couldnt believe this guy was a colleg...          0             0   \n",
      "1  I definitely wasnt crazy about this class and ...          0             0   \n",
      "2  Dr Mason was amazing I was not excited to take...          0             0   \n",
      "3  Professor Mason is incredible He keeps lecture...          0             0   \n",
      "4  Professor Mason incorporates a great mix of le...          0             0   \n",
      "\n",
      "  online  profgender  profhotness  \n",
      "0    NaN           0            0  \n",
      "1    NaN           0            0  \n",
      "2    NaN           0            0  \n",
      "3    NaN           0            0  \n",
      "4    NaN           0            0  \n"
     ]
    }
   ],
   "source": [
    "print test.head()"
   ]
  },
  {
   "cell_type": "code",
   "execution_count": 7,
   "metadata": {
    "collapsed": false
   },
   "outputs": [
    {
     "data": {
      "text/plain": [
       "array([ 0,  1,  5,  2,  4,  3,  7,  9, 10,  6, 16, 13,  8, 29, 12, 14, 11,\n",
       "       15], dtype=int64)"
      ]
     },
     "execution_count": 7,
     "metadata": {},
     "output_type": "execute_result"
    }
   ],
   "source": [
    "test.helpcount.unique()"
   ]
  }
 ],
 "metadata": {
  "kernelspec": {
   "display_name": "Python 2",
   "language": "python",
   "name": "python2"
  },
  "language_info": {
   "codemirror_mode": {
    "name": "ipython",
    "version": 2
   },
   "file_extension": ".py",
   "mimetype": "text/x-python",
   "name": "python",
   "nbconvert_exporter": "python",
   "pygments_lexer": "ipython2",
   "version": "2.7.10"
  }
 },
 "nbformat": 4,
 "nbformat_minor": 0
}
